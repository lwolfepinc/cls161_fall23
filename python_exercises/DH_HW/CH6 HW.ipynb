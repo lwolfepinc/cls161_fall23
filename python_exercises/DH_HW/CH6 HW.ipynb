{
 "cells": [
  {
   "cell_type": "markdown",
   "id": "dc94bc58",
   "metadata": {},
   "source": [
    "# 6.1-6.9, 6.11"
   ]
  },
  {
   "cell_type": "code",
   "execution_count": null,
   "id": "e6c3d446",
   "metadata": {},
   "outputs": [],
   "source": [
    "#6.1"
   ]
  },
  {
   "cell_type": "code",
   "execution_count": 24,
   "id": "abd208d1",
   "metadata": {},
   "outputs": [
    {
     "name": "stdout",
     "output_type": "stream",
     "text": [
      "First Name Tommy\n",
      "Last Name Connor\n",
      "Age 22\n",
      "City Hoboken\n"
     ]
    }
   ],
   "source": [
    "aspects = {\n",
    "    'first name' : 'tommy',\n",
    "    'last name': 'connor',\n",
    "    'age': 22,\n",
    "    'city' : 'hoboken'\n",
    "}\n",
    "for aspect in aspects:\n",
    "    print(aspect.title() + \" \"+ (str(aspects[aspect])).title())"
   ]
  },
  {
   "cell_type": "code",
   "execution_count": null,
   "id": "7d249eb4",
   "metadata": {},
   "outputs": [],
   "source": [
    "#6.2"
   ]
  },
  {
   "cell_type": "code",
   "execution_count": 20,
   "id": "0c2837c8",
   "metadata": {},
   "outputs": [
    {
     "name": "stdout",
     "output_type": "stream",
     "text": [
      "Cal 6\n",
      "Ella 8\n",
      "Sloan 3\n",
      "Logan 6\n",
      "Emily 2\n"
     ]
    }
   ],
   "source": [
    "fav_numbers = {\n",
    "    'cal':6, 'ella': 8, 'sloan':3, 'logan': 6, 'emily': 2\n",
    "}\n",
    "for fav_number in fav_numbers:\n",
    "    print(fav_number.title() + \" \" + str(fav_numbers[fav_number]))"
   ]
  },
  {
   "cell_type": "code",
   "execution_count": null,
   "id": "a84dff36",
   "metadata": {},
   "outputs": [],
   "source": [
    "#6.3, 6.4"
   ]
  },
  {
   "cell_type": "code",
   "execution_count": 1,
   "id": "ff1044b6",
   "metadata": {},
   "outputs": [
    {
     "name": "stdout",
     "output_type": "stream",
     "text": [
      "dictionary: data storage\n",
      "\n",
      "variable: reference\n",
      "\n",
      "integer: number\n",
      "\n",
      "string: an array\n",
      "\n",
      "loop: iterating thru a data set\n",
      "\n"
     ]
    }
   ],
   "source": [
    "glossary = {\n",
    "    'dictionary': 'data storage', \n",
    "    'variable': 'reference',\n",
    "    'integer': 'number',\n",
    "    'string': 'an array',\n",
    "    'loop' : 'iterating thru a data set'\n",
    "}\n",
    "for x in glossary:\n",
    "    print(x + \": \" + str(glossary[x]) + \"\\n\")"
   ]
  },
  {
   "cell_type": "code",
   "execution_count": null,
   "id": "da59567f",
   "metadata": {},
   "outputs": [],
   "source": [
    "#6.5"
   ]
  },
  {
   "cell_type": "code",
   "execution_count": 9,
   "id": "7f816f88",
   "metadata": {},
   "outputs": [
    {
     "name": "stdout",
     "output_type": "stream",
     "text": [
      "The Mississippi runs through Usa\n",
      "The Garonne runs through France\n",
      "The Thames runs through England\n",
      "mississippi\n",
      "garonne\n",
      "thames\n",
      "USA\n",
      "france\n",
      "england\n"
     ]
    }
   ],
   "source": [
    "rivers = {\n",
    "    'mississippi': 'USA', \n",
    "    'garonne': 'france', \n",
    "    'thames' : 'england'\n",
    "}\n",
    "for river in rivers:\n",
    "    print(\"The \" + river.title() + \" runs through \" + (rivers[river]).title())\n",
    "    \n",
    "for river in rivers:\n",
    "    print(river)\n",
    "    \n",
    "for river in rivers:\n",
    "    print(rivers[river])"
   ]
  },
  {
   "cell_type": "code",
   "execution_count": null,
   "id": "957058bf",
   "metadata": {},
   "outputs": [],
   "source": [
    "#6.6"
   ]
  },
  {
   "cell_type": "code",
   "execution_count": 4,
   "id": "79f48662",
   "metadata": {},
   "outputs": [
    {
     "name": "stdout",
     "output_type": "stream",
     "text": [
      "Jen's favorite language is Python.\n",
      "Sarah's favorite language is C.\n",
      "Edward's favorite language is Ruby.\n",
      "Phil's favorite language is Python.\n"
     ]
    }
   ],
   "source": [
    "favorite_languages = {\n",
    "'jen': 'python',\n",
    " 'sarah': 'c',\n",
    " 'edward': 'ruby',\n",
    " 'phil': 'python',\n",
    " }\n",
    "for name, language in favorite_languages.items():\n",
    "    print(name.title() + \"'s favorite language is \" +\n",
    " language.title() + \".\")"
   ]
  },
  {
   "cell_type": "code",
   "execution_count": 19,
   "id": "c073e397",
   "metadata": {},
   "outputs": [
    {
     "name": "stdout",
     "output_type": "stream",
     "text": [
      "Take the poll, ella\n",
      "Take the poll, sloan\n",
      "Thank you jen for taking the poll.\n",
      "Thank you edward for taking the poll.\n"
     ]
    }
   ],
   "source": [
    "people = ['ella', 'sloan', 'jen', 'edward']\n",
    "for p in people:\n",
    "    if p in favorite_languages.keys():\n",
    "        print(\"Thank you \" + p + \" for taking the poll.\")\n",
    "    else:\n",
    "        print(\"Take the poll, \" + p)"
   ]
  },
  {
   "cell_type": "code",
   "execution_count": 20,
   "id": "e6baab5b",
   "metadata": {},
   "outputs": [],
   "source": [
    "#6.7"
   ]
  },
  {
   "cell_type": "code",
   "execution_count": 27,
   "id": "87895527",
   "metadata": {},
   "outputs": [
    {
     "name": "stdout",
     "output_type": "stream",
     "text": [
      "{'first name': 'tommy', 'last name': 'connor', 'age': 22, 'city': 'hoboken'}\n",
      "{'first name': 'ella', 'last name': 'kamm', 'age': 21, 'city': 'milwaukee'}\n",
      "{'first name': 'sloan', 'last name': 'woodberry', 'age': 21, 'city': 'denver'}\n"
     ]
    }
   ],
   "source": [
    "aspects = {\n",
    "    'first name' : 'tommy',\n",
    "    'last name': 'connor',\n",
    "    'age': 22,\n",
    "    'city' : 'hoboken'\n",
    "}\n",
    "\n",
    "aspects1 = {\n",
    "    'first name' : 'ella',\n",
    "    'last name': 'kamm',\n",
    "    'age': 21,\n",
    "    'city' : 'milwaukee'\n",
    "}\n",
    "\n",
    "aspects2 = {\n",
    "    'first name' : 'sloan',\n",
    "    'last name': 'woodberry',\n",
    "    'age': 21,\n",
    "    'city' : 'denver'\n",
    "}\n",
    "people1 = [aspects, aspects1, aspects2]\n",
    "\n",
    "for p in people1:\n",
    "    print(p)"
   ]
  },
  {
   "cell_type": "code",
   "execution_count": 28,
   "id": "3dcca4ea",
   "metadata": {},
   "outputs": [],
   "source": [
    "#6.8"
   ]
  },
  {
   "cell_type": "code",
   "execution_count": 32,
   "id": "1b69bb25",
   "metadata": {},
   "outputs": [
    {
     "name": "stdout",
     "output_type": "stream",
     "text": [
      "{'name': 'momo', 'animal': 'dog', 'owner': 'logan'}\n",
      "{'name': 'sugar', 'animal': 'bird', 'owner': 'barb'}\n",
      "{'name': 'bowie', 'animal': 'dog', 'owner': 'ella'}\n"
     ]
    }
   ],
   "source": [
    "momo = {\n",
    "    'name' : 'momo',\n",
    "    'animal' : 'dog', \n",
    "    'owner' : 'logan'\n",
    "}\n",
    "\n",
    "sugar = {\n",
    "    'name' : 'sugar',\n",
    "    'animal' : 'bird', \n",
    "    'owner' : 'barb'\n",
    "}\n",
    "\n",
    "bowie = {\n",
    "    'name' : 'bowie',\n",
    "    'animal' : 'dog', \n",
    "    'owner' : 'ella'\n",
    "}\n",
    "\n",
    "pets = [momo, sugar, bowie]\n",
    "for p in pets:\n",
    "    print(p)"
   ]
  },
  {
   "cell_type": "code",
   "execution_count": 33,
   "id": "ec1d2ada",
   "metadata": {},
   "outputs": [],
   "source": [
    "#6.9"
   ]
  },
  {
   "cell_type": "code",
   "execution_count": 15,
   "id": "7ae4145d",
   "metadata": {},
   "outputs": [
    {
     "name": "stdout",
     "output_type": "stream",
     "text": [
      "ella\n",
      "['spain', 'costa rica']\n",
      "sloan\n",
      "['denver', 'nyc']\n",
      "logan\n",
      "['paris', 'nyc']\n"
     ]
    }
   ],
   "source": [
    "favorite_places = {\n",
    "    'ella' : ['spain', 'costa rica'], \n",
    "    'sloan' : ['denver', 'nyc'], \n",
    "    'logan' : ['paris', 'nyc']\n",
    "}\n",
    "for n in favorite_places.items():\n",
    "    for p in n:\n",
    "        print(p)\n",
    "        \n",
    "        "
   ]
  },
  {
   "cell_type": "code",
   "execution_count": 46,
   "id": "14409a40",
   "metadata": {},
   "outputs": [],
   "source": [
    "#6.11"
   ]
  },
  {
   "cell_type": "code",
   "execution_count": 53,
   "id": "8970c7a7",
   "metadata": {},
   "outputs": [
    {
     "name": "stdout",
     "output_type": "stream",
     "text": [
      "nyc {'country': 'USA', 'population': 8500000, 'fact': 'there are 5 boroughs.'}\n",
      "rome {'country': 'italy', 'population': 2900000, 'fact': 'there are 280 fountains.'}\n",
      "mexico city {'country': 'mexico', 'population': 8900000, 'fact': 'it was built over a lake.'}\n"
     ]
    }
   ],
   "source": [
    "cities = {\n",
    "    'nyc': {'country': 'USA', 'population': 8500000, 'fact': 'there are 5 boroughs.'}\n",
    "        , \n",
    "    'rome': {'country': 'italy', 'population': 2900000, 'fact':'there are 280 fountains.' }, \n",
    "    'mexico city': {'country': 'mexico', 'population':8900000, 'fact': 'it was built over a lake.'}\n",
    "}\n",
    "\n",
    "for i, c in cities.items():\n",
    "    print(i,c)\n"
   ]
  },
  {
   "cell_type": "code",
   "execution_count": null,
   "id": "effbe0a1",
   "metadata": {},
   "outputs": [],
   "source": []
  }
 ],
 "metadata": {
  "kernelspec": {
   "display_name": "Python 3 (ipykernel)",
   "language": "python",
   "name": "python3"
  },
  "language_info": {
   "codemirror_mode": {
    "name": "ipython",
    "version": 3
   },
   "file_extension": ".py",
   "mimetype": "text/x-python",
   "name": "python",
   "nbconvert_exporter": "python",
   "pygments_lexer": "ipython3",
   "version": "3.9.7"
  }
 },
 "nbformat": 4,
 "nbformat_minor": 5
}
