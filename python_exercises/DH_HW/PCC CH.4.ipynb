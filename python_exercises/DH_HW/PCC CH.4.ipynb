{
 "cells": [
  {
   "cell_type": "markdown",
   "id": "538675d7",
   "metadata": {},
   "source": [
    "## 4.1-4.3, 4.6, 4.10-4.11"
   ]
  },
  {
   "cell_type": "code",
   "execution_count": 11,
   "id": "5379c900",
   "metadata": {},
   "outputs": [
    {
     "name": "stdout",
     "output_type": "stream",
     "text": [
      "I like margherita pizza.\n",
      "I really love pizza!\n",
      "\n",
      "I like veggie pizza.\n",
      "I really love pizza!\n",
      "\n",
      "I like black olives pizza.\n",
      "I really love pizza!\n",
      "\n"
     ]
    }
   ],
   "source": [
    "pizzas = [\"margherita\", \"veggie\", \"black olives\"]\n",
    "for pizza in pizzas:\n",
    "    print(\"I like \" + pizza + \" pizza.\")\n",
    "    print(\"I really love pizza\" + \"!\\n\")"
   ]
  },
  {
   "cell_type": "code",
   "execution_count": 43,
   "id": "46e7dc15",
   "metadata": {},
   "outputs": [
    {
     "name": "stdout",
     "output_type": "stream",
     "text": [
      "A dog would make a great pet.\n",
      "Any of these animals would make a great pet.\n",
      "\n",
      "A cat would make a great pet.\n",
      "Any of these animals would make a great pet.\n",
      "\n",
      "A fish would make a great pet.\n",
      "Any of these animals would make a great pet.\n",
      "\n"
     ]
    }
   ],
   "source": [
    "animals = [\"dog\", \"cat\", \"fish\"]\n",
    "for animal in animals:\n",
    "    print(\"A \" + animal + \" would make a great pet.\")\n",
    "    print(\"Any of these animals would make a great pet\" + \".\\n\")"
   ]
  },
  {
   "cell_type": "code",
   "execution_count": 44,
   "id": "07039da4",
   "metadata": {},
   "outputs": [
    {
     "name": "stdout",
     "output_type": "stream",
     "text": [
      "1\n",
      "2\n",
      "3\n",
      "4\n",
      "5\n",
      "6\n",
      "7\n",
      "8\n",
      "9\n",
      "10\n",
      "11\n",
      "12\n",
      "13\n",
      "14\n",
      "15\n",
      "16\n",
      "17\n",
      "18\n",
      "19\n",
      "20\n"
     ]
    }
   ],
   "source": [
    "for value in range(1, 21):\n",
    "    print(value)"
   ]
  },
  {
   "cell_type": "code",
   "execution_count": 45,
   "id": "8af3385d",
   "metadata": {},
   "outputs": [
    {
     "name": "stdout",
     "output_type": "stream",
     "text": [
      "[1, 4, 7, 10, 13, 16, 19]\n"
     ]
    }
   ],
   "source": [
    "every_3 = list(range(1, 21, 3))\n",
    "print(every_3)"
   ]
  },
  {
   "cell_type": "code",
   "execution_count": 46,
   "id": "833ef779",
   "metadata": {},
   "outputs": [
    {
     "name": "stdout",
     "output_type": "stream",
     "text": [
      "['dog', 'cat', 'fish', 'bird', 'pig']\n",
      "The first three items in the list are:\n",
      "['dog', 'cat', 'fish']\n"
     ]
    }
   ],
   "source": [
    "animals.append(\"bird\")\n",
    "animals.append(\"pig\")\n",
    "print(animals)\n",
    "print(\"The first three items in the list are:\")\n",
    "first_three = animals[:3]\n",
    "print(first_three)\n"
   ]
  },
  {
   "cell_type": "code",
   "execution_count": 49,
   "id": "55fd5157",
   "metadata": {},
   "outputs": [
    {
     "name": "stdout",
     "output_type": "stream",
     "text": [
      "Three items from the middle of the list are: \n",
      "['cat', 'fish', 'bird']\n"
     ]
    }
   ],
   "source": [
    "print(\"Three items from the middle of the list are: \")\n",
    "middle_three = animals[1:4]\n",
    "print(middle_three)"
   ]
  },
  {
   "cell_type": "code",
   "execution_count": 51,
   "id": "42ae7c8c",
   "metadata": {},
   "outputs": [
    {
     "name": "stdout",
     "output_type": "stream",
     "text": [
      "The last three items in the list are:\n",
      "['fish', 'bird', 'pig']\n"
     ]
    }
   ],
   "source": [
    "last_three = animals[2:6]\n",
    "print(\"The last three items in the list are:\")\n",
    "print(last_three)"
   ]
  },
  {
   "cell_type": "code",
   "execution_count": 52,
   "id": "fc84be31",
   "metadata": {},
   "outputs": [
    {
     "name": "stdout",
     "output_type": "stream",
     "text": [
      "['margherita', 'veggie', 'black olives', 'Pepperoni']\n"
     ]
    }
   ],
   "source": [
    "pizzas.append(\"Pepperoni\")\n",
    "print(pizzas)"
   ]
  },
  {
   "cell_type": "code",
   "execution_count": 57,
   "id": "4d1ba59d",
   "metadata": {},
   "outputs": [
    {
     "name": "stdout",
     "output_type": "stream",
     "text": [
      "['margherita', 'veggie', 'black olives', 'sausage']\n"
     ]
    }
   ],
   "source": [
    "friend_pizzas = [\"margherita\", \"veggie\", \"black olives\"]\n",
    "friend_pizzas.append(\"sausage\")\n",
    "print(friend_pizzas)"
   ]
  },
  {
   "cell_type": "code",
   "execution_count": 59,
   "id": "78812237",
   "metadata": {},
   "outputs": [
    {
     "name": "stdout",
     "output_type": "stream",
     "text": [
      "My favorite pizzas are :\n",
      "margherita\n",
      "veggie\n",
      "black olives\n",
      "Pepperoni\n"
     ]
    }
   ],
   "source": [
    "print(\"My favorite pizzas are:\")\n",
    "for pizza in pizzas:\n",
    "    print(pizza)"
   ]
  },
  {
   "cell_type": "code",
   "execution_count": 61,
   "id": "85f242d6",
   "metadata": {},
   "outputs": [
    {
     "name": "stdout",
     "output_type": "stream",
     "text": [
      "My friend's favorite pizzas are:\n",
      "margherita\n",
      "veggie\n",
      "black olives\n",
      "sausage\n"
     ]
    }
   ],
   "source": [
    "print(\"My friend's favorite pizzas are:\")\n",
    "for pizza in friend_pizzas:\n",
    "    print(pizza)"
   ]
  },
  {
   "cell_type": "code",
   "execution_count": null,
   "id": "ed322402",
   "metadata": {},
   "outputs": [],
   "source": []
  }
 ],
 "metadata": {
  "kernelspec": {
   "display_name": "Python 3 (ipykernel)",
   "language": "python",
   "name": "python3"
  },
  "language_info": {
   "codemirror_mode": {
    "name": "ipython",
    "version": 3
   },
   "file_extension": ".py",
   "mimetype": "text/x-python",
   "name": "python",
   "nbconvert_exporter": "python",
   "pygments_lexer": "ipython3",
   "version": "3.9.7"
  }
 },
 "nbformat": 4,
 "nbformat_minor": 5
}
