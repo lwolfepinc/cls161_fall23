{
 "cells": [
  {
   "cell_type": "markdown",
   "id": "7532033f",
   "metadata": {},
   "source": [
    "# Python Exercises 2.1-2.7, 2.10, 3.1-3.8"
   ]
  },
  {
   "cell_type": "markdown",
   "id": "8781922b",
   "metadata": {},
   "source": [
    " ## 2.1-2.7, 2.10"
   ]
  },
  {
   "cell_type": "code",
   "execution_count": 2,
   "id": "18838e50",
   "metadata": {},
   "outputs": [
    {
     "name": "stdout",
     "output_type": "stream",
     "text": [
      "Hi, there!\n"
     ]
    }
   ],
   "source": [
    "greeting = \"Hi, there!\"\n",
    "print(greeting)"
   ]
  },
  {
   "cell_type": "code",
   "execution_count": 3,
   "id": "36065eb2",
   "metadata": {},
   "outputs": [
    {
     "name": "stdout",
     "output_type": "stream",
     "text": [
      "Hi, hello!\n"
     ]
    }
   ],
   "source": [
    "greeting = \"Hi, hello!\"\n",
    "print(greeting)"
   ]
  },
  {
   "cell_type": "code",
   "execution_count": 6,
   "id": "56ecdf4f",
   "metadata": {},
   "outputs": [
    {
     "name": "stdout",
     "output_type": "stream",
     "text": [
      "Hello Logan, would you like to learn some Python today?\n"
     ]
    }
   ],
   "source": [
    "name = \"Logan\"\n",
    "print(\"Hello \" + name + \", would you like to learn some Python today?\")"
   ]
  },
  {
   "cell_type": "code",
   "execution_count": 19,
   "id": "2feb7569",
   "metadata": {},
   "outputs": [
    {
     "name": "stdout",
     "output_type": "stream",
     "text": [
      "   logan \n",
      "   LOGAN \n",
      "   Logan \n"
     ]
    }
   ],
   "source": [
    "#this is my name written 3 different ways!\n",
    "print(name.lower())\n",
    "print(name.upper())\n",
    "print(name.title())"
   ]
  },
  {
   "cell_type": "code",
   "execution_count": 18,
   "id": "4b3a7fb2",
   "metadata": {},
   "outputs": [
    {
     "name": "stdout",
     "output_type": "stream",
     "text": [
      "William Carlos Williams once said \"I have eaten the plums that were in the icebox and which you were probably saving for breakfast Forgive me they were delicious so sweet and so cold\"\n"
     ]
    }
   ],
   "source": [
    "#this is one of my favorite poems!\n",
    "print('William Carlos Williams once said \"I have eaten the plums that were in the icebox and which you were probably saving for breakfast Forgive me they were delicious so sweet and so cold\"')"
   ]
  },
  {
   "cell_type": "code",
   "execution_count": 13,
   "id": "dd614782",
   "metadata": {},
   "outputs": [
    {
     "name": "stdout",
     "output_type": "stream",
     "text": [
      "William Carlos Williams once said I have eaten the plums that were in the icebox and which you were probably saving for breakfast Forgive me they were delicious so sweet and so cold\n"
     ]
    }
   ],
   "source": [
    "famous_person = \"William Carlos Williams \"\n",
    "message = \"I have eaten the plums that were in the icebox and which you were probably saving for breakfast Forgive me they were delicious so sweet and so cold\"\n",
    "print (famous_person + \"once said \" + message)"
   ]
  },
  {
   "cell_type": "code",
   "execution_count": 17,
   "id": "5a813f9b",
   "metadata": {},
   "outputs": [
    {
     "name": "stdout",
     "output_type": "stream",
     "text": [
      "   Logan \n",
      "Logan \n",
      "   Logan\n",
      "Logan\n"
     ]
    }
   ],
   "source": [
    "name = \"   Logan \"\n",
    "print (name)\n",
    "print(name.lstrip())\n",
    "print(name.rstrip())\n",
    "print(name.strip())"
   ]
  },
  {
   "cell_type": "markdown",
   "id": "c21df9dd",
   "metadata": {},
   "source": []
  },
  {
   "cell_type": "code",
   "execution_count": null,
   "id": "071ddcb0",
   "metadata": {},
   "outputs": [],
   "source": []
  }
 ],
 "metadata": {
  "kernelspec": {
   "display_name": "Python 3 (ipykernel)",
   "language": "python",
   "name": "python3"
  },
  "language_info": {
   "codemirror_mode": {
    "name": "ipython",
    "version": 3
   },
   "file_extension": ".py",
   "mimetype": "text/x-python",
   "name": "python",
   "nbconvert_exporter": "python",
   "pygments_lexer": "ipython3",
   "version": "3.9.7"
  }
 },
 "nbformat": 4,
 "nbformat_minor": 5
}
