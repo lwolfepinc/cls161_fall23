{
 "cells": [
  {
   "cell_type": "markdown",
   "id": "e55208ce",
   "metadata": {},
   "source": [
    "## 5.1-5.2, 5.6-5.10"
   ]
  },
  {
   "cell_type": "code",
   "execution_count": 1,
   "id": "e5cd98f2",
   "metadata": {
    "scrolled": true
   },
   "outputs": [
    {
     "name": "stdout",
     "output_type": "stream",
     "text": [
      "Is emotion == 'happy'? I predict True.\n",
      "True\n",
      "\n",
      "Is car == 'sad'? I predict False.\n",
      "False\n"
     ]
    }
   ],
   "source": [
    "emotion = \"happy\"\n",
    "print(\"Is emotion == 'happy'? I predict True.\")\n",
    "print(emotion == \"happy\")\n",
    "\n",
    "print(\"\\nIs car == 'sad'? I predict False.\")\n",
    "print(emotion == \"sad\")"
   ]
  },
  {
   "cell_type": "code",
   "execution_count": 15,
   "id": "70f7fd73",
   "metadata": {},
   "outputs": [],
   "source": [
    "## I'm confused by what this code is achieving ^^"
   ]
  },
  {
   "cell_type": "code",
   "execution_count": 29,
   "id": "c165d9a4",
   "metadata": {},
   "outputs": [
    {
     "data": {
      "text/plain": [
       "False"
      ]
     },
     "execution_count": 29,
     "metadata": {},
     "output_type": "execute_result"
    }
   ],
   "source": [
    "book = \"Jazz\"\n",
    "book == \"The Bluest Eye\"\n",
    "book == \"Jazz\"\n",
    "\n",
    "book == \"jazz\"\n",
    "book.lower() == \"jazz\"\n",
    "1 != 3\n",
    "1 == 1\n",
    "1 < 5\n",
    "1 >= 4\n",
    "\n",
    "1 < 4 and 4 > 1\n",
    "1 <= 4 or 4 < 1\n",
    "\n",
    "items = [\"happy\", \"sad\", \"tired\"]\n",
    "\"happy\" in items\n",
    "\"miserable\" in items"
   ]
  },
  {
   "cell_type": "markdown",
   "id": "a543df0a",
   "metadata": {},
   "source": [
    "age = 4\n",
    "if age <= 2:\n",
    "    print(\"You are just a little baby.\")\n",
    "elif age > 2 and age < 4:\n",
    "    print(\"You toddle.\")\n",
    "elif age > 4 and age < 13:\n",
    "    print(\"You are a kid.\")\n",
    "elif age > 13 and age < 20:\n",
    "    print(\"You are a teen. Scary!!\")\n",
    "elif age > 20 and age < 65:\n",
    "    print(\"You are an adult. boo.\")\n",
    "else:\n",
    "    print(\"oy, you are an elder.\")\n"
   ]
  },
  {
   "cell_type": "code",
   "execution_count": 12,
   "id": "ce86deb4",
   "metadata": {},
   "outputs": [
    {
     "name": "stdout",
     "output_type": "stream",
     "text": [
      "Yum, mango\n"
     ]
    }
   ],
   "source": [
    "favorite_fruits = [\"mango\", \"strawberry\", \"pineapple\"]\n",
    "if \"mango\" in favorite_fruits:\n",
    "    print(\"Yum, mango\")\n",
    "elif \"strawberry\" in favorite_fruits:\n",
    "    print(\"Yum, strawberry\")\n",
    "elif \"pineapple\" in favorite_fruits:\n",
    "    print(\"Yum, pineapple\")\n",
    "else: \n",
    "    print(\"yuck\")"
   ]
  },
  {
   "cell_type": "code",
   "execution_count": 35,
   "id": "20ba4e0c",
   "metadata": {},
   "outputs": [
    {
     "name": "stdout",
     "output_type": "stream",
     "text": [
      "Hello, would you like to see a status report?\n",
      "Hello again, user!\n",
      "Hello again, user!\n",
      "Hello again, user!\n",
      "Hello again, user!\n"
     ]
    }
   ],
   "source": [
    "usernames = [\"admin\", \"lwolfep\", \"loganwolfe\", \"lpinc\", \"logp\"]\n",
    "for username in usernames:\n",
    "    if username == \"admin\":\n",
    "        print(\"Hello, would you like to see a status report?\")\n",
    "    else:\n",
    "        print(\"Hello again, user!\")"
   ]
  },
  {
   "cell_type": "code",
   "execution_count": 38,
   "id": "418bc42e",
   "metadata": {},
   "outputs": [
    {
     "name": "stdout",
     "output_type": "stream",
     "text": [
      "We need to find some users.\n"
     ]
    }
   ],
   "source": [
    "usernames = []\n",
    "if usernames:\n",
    "    for username in usernames:\n",
    "        print(\"You are a user.\")\n",
    "else:\n",
    "    print(\"We need to find some users.\")"
   ]
  },
  {
   "cell_type": "code",
   "execution_count": 37,
   "id": "fdc42f61",
   "metadata": {},
   "outputs": [
    {
     "name": "stdout",
     "output_type": "stream",
     "text": [
      "[]\n"
     ]
    }
   ],
   "source": [
    "print(usernames)"
   ]
  },
  {
   "cell_type": "code",
   "execution_count": 39,
   "id": "9e8a8acc",
   "metadata": {},
   "outputs": [
    {
     "name": "stdout",
     "output_type": "stream",
     "text": [
      "Please enter a new username.\n",
      "That username is available.\n",
      "That username is available.\n",
      "That username is available.\n",
      "That username is available.\n"
     ]
    }
   ],
   "source": [
    "current_users = [\"admin\", \"lwolfep\", \"loganwolfe\", \"lpinc\", \"logp\"]\n",
    "new_users = [\"lwolfep\", \"you\", \"him\", \"her\", \"them\"]\n",
    "\n",
    "for new_users in new_users:\n",
    "    if new_users in current_users:\n",
    "        print(\"Please enter a new username.\")\n",
    "    else:\n",
    "        print(\"That username is available.\")\n",
    "        "
   ]
  },
  {
   "cell_type": "code",
   "execution_count": null,
   "id": "247dfcef",
   "metadata": {},
   "outputs": [],
   "source": []
  }
 ],
 "metadata": {
  "kernelspec": {
   "display_name": "Python 3 (ipykernel)",
   "language": "python",
   "name": "python3"
  },
  "language_info": {
   "codemirror_mode": {
    "name": "ipython",
    "version": 3
   },
   "file_extension": ".py",
   "mimetype": "text/x-python",
   "name": "python",
   "nbconvert_exporter": "python",
   "pygments_lexer": "ipython3",
   "version": "3.9.7"
  }
 },
 "nbformat": 4,
 "nbformat_minor": 5
}
