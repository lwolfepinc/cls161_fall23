{
 "cells": [
  {
   "cell_type": "markdown",
   "id": "38585523",
   "metadata": {},
   "source": [
    "# 8.1-3, 8.5-7"
   ]
  },
  {
   "cell_type": "code",
   "execution_count": 2,
   "id": "43a4ecd3",
   "metadata": {},
   "outputs": [
    {
     "name": "stdout",
     "output_type": "stream",
     "text": [
      "In this lesson, I am learning about functions.\n"
     ]
    }
   ],
   "source": [
    "#8.1\n",
    "def display_message():\n",
    "    print(\"In this lesson, I am learning about functions.\")\n",
    "display_message()"
   ]
  },
  {
   "cell_type": "code",
   "execution_count": 3,
   "id": "7ab2323f",
   "metadata": {},
   "outputs": [
    {
     "name": "stdout",
     "output_type": "stream",
     "text": [
      "One of my favorite books is The Left Hand Of Darkness\n"
     ]
    }
   ],
   "source": [
    "#8.2\n",
    "def favorite_book(title):\n",
    "    print(f\"One of my favorite books is {title.title()}\")\n",
    "favorite_book(\"The Left Hand of Darkness\")"
   ]
  },
  {
   "cell_type": "code",
   "execution_count": 5,
   "id": "83480454",
   "metadata": {},
   "outputs": [
    {
     "name": "stdout",
     "output_type": "stream",
     "text": [
      "The size of the shirt is small\n",
      "The text of the shirt is Hi!\n",
      "The size of the shirt is small\n",
      "The text of the shirt is Hi!\n"
     ]
    }
   ],
   "source": [
    "#8.3\n",
    "def make_shirt(size, text):\n",
    "    print(f\"The size of the shirt is {size}\")\n",
    "    print(f\"The text of the shirt is {text}\")\n",
    "make_shirt(\"small\", \"Hi!\")\n",
    "\n",
    "make_shirt(size=\"small\", text=\"Hi!\")"
   ]
  },
  {
   "cell_type": "code",
   "execution_count": 9,
   "id": "28499a57",
   "metadata": {},
   "outputs": [
    {
     "name": "stdout",
     "output_type": "stream",
     "text": [
      "New Orleans is in Usa\n",
      "New York City is in Usa\n",
      "Tokyo is in Japan\n"
     ]
    }
   ],
   "source": [
    "#8.5\n",
    "def describe_city(city, country=\"USA\"):\n",
    "    print(f\"{city.title()} is in {country.title()}\")\n",
    "describe_city(\"New Orleans\")\n",
    "describe_city(\"New York City\")\n",
    "describe_city(city=\"Tokyo\", country=\"Japan\")"
   ]
  },
  {
   "cell_type": "code",
   "execution_count": 13,
   "id": "24df20d8",
   "metadata": {},
   "outputs": [
    {
     "name": "stdout",
     "output_type": "stream",
     "text": [
      "Santiago, Chile\n",
      "Los Angeles, Usa\n",
      "Beijing, China\n"
     ]
    }
   ],
   "source": [
    "#8.6\n",
    "def city_country(city, country):\n",
    "    print(f\"{city.title()}, {country.title()}\")\n",
    "city_country(\"santiago\", \"chile\")\n",
    "city_country(\"los angeles\", \"USA\")\n",
    "city_country(\"Beijing\", \"china\")"
   ]
  },
  {
   "cell_type": "code",
   "execution_count": 18,
   "id": "8ea407b8",
   "metadata": {},
   "outputs": [
    {
     "name": "stdout",
     "output_type": "stream",
     "text": [
      "{'artist': 'King Krule', 'title': 'The Ooz'}\n",
      "{'artist': 'Bjork', 'title': 'Vespertine'}\n",
      "{'artist': 'Eliott Smith', 'title': 'Figure 8'}\n"
     ]
    }
   ],
   "source": [
    "#8.7 \n",
    "def make_album(artist_name, title):\n",
    "    album = {\"artist\" : artist_name, \"title\": title}\n",
    "    return album\n",
    "print(make_album(\"King Krule\", \"The Ooz\"))\n",
    "print(make_album(\"Bjork\", \"Vespertine\"))\n",
    "print(make_album(\"Eliott Smith\", \"Figure 8\"))"
   ]
  },
  {
   "cell_type": "code",
   "execution_count": null,
   "id": "0599b84a",
   "metadata": {},
   "outputs": [],
   "source": []
  },
  {
   "cell_type": "markdown",
   "id": "3038e86f",
   "metadata": {},
   "source": []
  }
 ],
 "metadata": {
  "kernelspec": {
   "display_name": "Python 3 (ipykernel)",
   "language": "python",
   "name": "python3"
  },
  "language_info": {
   "codemirror_mode": {
    "name": "ipython",
    "version": 3
   },
   "file_extension": ".py",
   "mimetype": "text/x-python",
   "name": "python",
   "nbconvert_exporter": "python",
   "pygments_lexer": "ipython3",
   "version": "3.9.7"
  }
 },
 "nbformat": 4,
 "nbformat_minor": 5
}
