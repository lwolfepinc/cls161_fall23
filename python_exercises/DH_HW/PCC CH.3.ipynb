{
 "cells": [
  {
   "cell_type": "markdown",
   "id": "fc95fb48",
   "metadata": {},
   "source": [
    "## Exercises 3.1-3.8"
   ]
  },
  {
   "cell_type": "code",
   "execution_count": 307,
   "id": "7e89971f",
   "metadata": {},
   "outputs": [],
   "source": [
    "names = [\"John\", \"Brendan\", \"Ella\", \"Emily\"]"
   ]
  },
  {
   "cell_type": "code",
   "execution_count": 308,
   "id": "07d75f98",
   "metadata": {},
   "outputs": [
    {
     "data": {
      "text/plain": [
       "'John'"
      ]
     },
     "execution_count": 308,
     "metadata": {},
     "output_type": "execute_result"
    }
   ],
   "source": [
    "names[0]"
   ]
  },
  {
   "cell_type": "code",
   "execution_count": 309,
   "id": "232dda6e",
   "metadata": {},
   "outputs": [
    {
     "data": {
      "text/plain": [
       "'Brendan'"
      ]
     },
     "execution_count": 309,
     "metadata": {},
     "output_type": "execute_result"
    }
   ],
   "source": [
    "names[1]"
   ]
  },
  {
   "cell_type": "code",
   "execution_count": 310,
   "id": "c55caed0",
   "metadata": {},
   "outputs": [
    {
     "data": {
      "text/plain": [
       "'Ella'"
      ]
     },
     "execution_count": 310,
     "metadata": {},
     "output_type": "execute_result"
    }
   ],
   "source": [
    "names[2]"
   ]
  },
  {
   "cell_type": "code",
   "execution_count": 311,
   "id": "289f8fd0",
   "metadata": {},
   "outputs": [
    {
     "data": {
      "text/plain": [
       "'Emily'"
      ]
     },
     "execution_count": 311,
     "metadata": {},
     "output_type": "execute_result"
    }
   ],
   "source": [
    "names[3]"
   ]
  },
  {
   "cell_type": "code",
   "execution_count": 312,
   "id": "721cfb7a",
   "metadata": {},
   "outputs": [
    {
     "name": "stdout",
     "output_type": "stream",
     "text": [
      "hi, hi John\n"
     ]
    }
   ],
   "source": [
    "greeting = \"hi, hi \"\n",
    "print(greeting + names[0])"
   ]
  },
  {
   "cell_type": "code",
   "execution_count": 313,
   "id": "896e789a",
   "metadata": {},
   "outputs": [
    {
     "name": "stdout",
     "output_type": "stream",
     "text": [
      "hi, hi Brendan\n"
     ]
    }
   ],
   "source": [
    "print(greeting + names[1])"
   ]
  },
  {
   "cell_type": "code",
   "execution_count": 314,
   "id": "1406ebba",
   "metadata": {},
   "outputs": [
    {
     "name": "stdout",
     "output_type": "stream",
     "text": [
      "hi, hi Ella\n"
     ]
    }
   ],
   "source": [
    "print(greeting + names[2])"
   ]
  },
  {
   "cell_type": "code",
   "execution_count": 315,
   "id": "cd7ecaaa",
   "metadata": {},
   "outputs": [
    {
     "name": "stdout",
     "output_type": "stream",
     "text": [
      "hi, hi Emily\n"
     ]
    }
   ],
   "source": [
    "print(greeting + names[3])"
   ]
  },
  {
   "cell_type": "code",
   "execution_count": 316,
   "id": "07cfca18",
   "metadata": {},
   "outputs": [
    {
     "name": "stdout",
     "output_type": "stream",
     "text": [
      "I would like to ride the bus\n"
     ]
    }
   ],
   "source": [
    "modes_of_transport = [\"train\", \"bus\", \"car\"]\n",
    "print(\"I would like to ride the \" + modes_of_transport[1])"
   ]
  },
  {
   "cell_type": "code",
   "execution_count": 317,
   "id": "ec45a858",
   "metadata": {},
   "outputs": [
    {
     "name": "stdout",
     "output_type": "stream",
     "text": [
      "I do not like to take the car\n"
     ]
    }
   ],
   "source": [
    "print(\"I do not like to take the \" + modes_of_transport[2])"
   ]
  },
  {
   "cell_type": "code",
   "execution_count": 318,
   "id": "c630e8fa",
   "metadata": {},
   "outputs": [
    {
     "name": "stdout",
     "output_type": "stream",
     "text": [
      "The train in Boston can be very slow\n"
     ]
    }
   ],
   "source": [
    "print(\"The \" + modes_of_transport[0] + \" in Boston can be very slow\")"
   ]
  },
  {
   "cell_type": "code",
   "execution_count": 319,
   "id": "1b9e6da1",
   "metadata": {},
   "outputs": [
    {
     "name": "stdout",
     "output_type": "stream",
     "text": [
      "Dear Fiona Apple, you are formally invited to attend a hip soirée chez moi!\n"
     ]
    }
   ],
   "source": [
    "guest_list = [\"Fiona Apple\", \"Björk\", \"Eliott Smith\"]\n",
    "print(\"Dear \" + guest_list[0] + \", you are formally invited to attend a hip soirée chez moi!\")\n"
   ]
  },
  {
   "cell_type": "code",
   "execution_count": 320,
   "id": "3f510b2b",
   "metadata": {},
   "outputs": [
    {
     "name": "stdout",
     "output_type": "stream",
     "text": [
      "Dear Björk, you are formally invited to attend a hip soirée chez moi!\n",
      "['Fiona Apple', 'Björk', 'Eliott Smith']\n"
     ]
    }
   ],
   "source": [
    "print(\"Dear \" + guest_list[1] + \", you are formally invited to attend a hip soirée chez moi!\")\n",
    "print(guest_list)"
   ]
  },
  {
   "cell_type": "code",
   "execution_count": 321,
   "id": "5630746c",
   "metadata": {},
   "outputs": [
    {
     "name": "stdout",
     "output_type": "stream",
     "text": [
      "Dear Eliott Smith, you are formally invited to attend a hip soirée chez moi!\n",
      "Unfortunately, Eliott Smith will not be in attendance.\n"
     ]
    }
   ],
   "source": [
    "print(\"Dear \" + guest_list[2] + \", you are formally invited to attend a hip soirée chez moi!\")\n",
    "print(\"Unfortunately, \" + guest_list[2] + \" will not be in attendance.\" )"
   ]
  },
  {
   "cell_type": "markdown",
   "id": "69fdd2e5",
   "metadata": {},
   "source": []
  },
  {
   "cell_type": "code",
   "execution_count": 322,
   "id": "029ca2f6",
   "metadata": {},
   "outputs": [
    {
     "name": "stdout",
     "output_type": "stream",
     "text": [
      "['Fiona Apple', 'Björk', 'Eliott Smith']\n"
     ]
    }
   ],
   "source": [
    "print(guest_list)"
   ]
  },
  {
   "cell_type": "code",
   "execution_count": 323,
   "id": "1ee55b81",
   "metadata": {},
   "outputs": [
    {
     "name": "stdout",
     "output_type": "stream",
     "text": [
      "['Fiona Apple', 'Björk']\n"
     ]
    }
   ],
   "source": [
    "#guest_list.remove(guest_list[2])\n",
    "#del guest_list[2]\n",
    "guest_list.pop()\n",
    "print(guest_list)"
   ]
  },
  {
   "cell_type": "code",
   "execution_count": 324,
   "id": "10cd87c9",
   "metadata": {},
   "outputs": [
    {
     "name": "stdout",
     "output_type": "stream",
     "text": [
      "['Fiona Apple', 'Björk', 'King Krule']\n"
     ]
    }
   ],
   "source": [
    "guest_list.append(\"King Krule\")\n",
    "print(guest_list)"
   ]
  },
  {
   "cell_type": "code",
   "execution_count": 325,
   "id": "804b0b26",
   "metadata": {},
   "outputs": [
    {
     "name": "stdout",
     "output_type": "stream",
     "text": [
      "Dear Fiona Apple, you are formally invited to attend a hip soirée chez moi!\n"
     ]
    }
   ],
   "source": [
    "print(\"Dear \" + guest_list[0] + \", you are formally invited to attend a hip soirée chez moi!\")"
   ]
  },
  {
   "cell_type": "code",
   "execution_count": 326,
   "id": "28334c53",
   "metadata": {},
   "outputs": [
    {
     "name": "stdout",
     "output_type": "stream",
     "text": [
      "Dear Björk, you are formally invited to attend a hip soirée chez moi!\n"
     ]
    }
   ],
   "source": [
    "print(\"Dear \" + guest_list[1] + \", you are formally invited to attend a hip soirée chez moi!\")"
   ]
  },
  {
   "cell_type": "code",
   "execution_count": 327,
   "id": "4fccbda3",
   "metadata": {},
   "outputs": [
    {
     "name": "stdout",
     "output_type": "stream",
     "text": [
      "Dear King Krule, you are formally invited to attend a hip soirée chez moi!\n"
     ]
    }
   ],
   "source": [
    "print(\"Dear \" + guest_list[2] + \", you are formally invited to attend a hip soirée chez moi!\")"
   ]
  },
  {
   "cell_type": "code",
   "execution_count": 328,
   "id": "88d8f404",
   "metadata": {},
   "outputs": [
    {
     "name": "stdout",
     "output_type": "stream",
     "text": [
      "['Thom Yorke', 'Fiona Apple', 'Björk', 'King Krule']\n"
     ]
    }
   ],
   "source": [
    "guest_list.insert(0, \"Thom Yorke\")\n",
    "print(guest_list)"
   ]
  },
  {
   "cell_type": "code",
   "execution_count": 329,
   "id": "5777fa4e",
   "metadata": {},
   "outputs": [
    {
     "name": "stdout",
     "output_type": "stream",
     "text": [
      "['Thom Yorke', 'Fiona Apple', 'Frank Ocean', 'Björk', 'King Krule']\n"
     ]
    }
   ],
   "source": [
    "guest_list.insert(2, \"Frank Ocean\")\n",
    "print(guest_list)"
   ]
  },
  {
   "cell_type": "code",
   "execution_count": 330,
   "id": "19b46520",
   "metadata": {},
   "outputs": [
    {
     "name": "stdout",
     "output_type": "stream",
     "text": [
      "['Thom Yorke', 'Fiona Apple', 'Frank Ocean', 'Björk', 'King Krule', 'David Bowie']\n"
     ]
    }
   ],
   "source": [
    "guest_list.append(\"David Bowie\")\n",
    "print(guest_list)"
   ]
  },
  {
   "cell_type": "code",
   "execution_count": 331,
   "id": "c6334b69",
   "metadata": {},
   "outputs": [
    {
     "name": "stdout",
     "output_type": "stream",
     "text": [
      "Dear Thom Yorke, you are formally invited to attend a hip soirée chez moi!\n",
      "Dear Fiona Apple, you are formally invited to attend a hip soirée chez moi!\n",
      "Dear Frank Ocean, you are formally invited to attend a hip soirée chez moi!\n",
      "Dear Björk, you are formally invited to attend a hip soirée chez moi!\n",
      "Dear King Krule, you are formally invited to attend a hip soirée chez moi!\n",
      "Dear David Bowie, you are formally invited to attend a hip soirée chez moi!\n"
     ]
    }
   ],
   "source": [
    "print(\"Dear \" + guest_list[0] + \", you are formally invited to attend a hip soirée chez moi!\")\n",
    "print(\"Dear \" + guest_list[1] + \", you are formally invited to attend a hip soirée chez moi!\")\n",
    "print(\"Dear \" + guest_list[2] + \", you are formally invited to attend a hip soirée chez moi!\")\n",
    "print(\"Dear \" + guest_list[3] + \", you are formally invited to attend a hip soirée chez moi!\")\n",
    "print(\"Dear \" + guest_list[4] + \", you are formally invited to attend a hip soirée chez moi!\")\n",
    "print(\"Dear \" + guest_list[5] + \", you are formally invited to attend a hip soirée chez moi!\")"
   ]
  },
  {
   "cell_type": "code",
   "execution_count": 332,
   "id": "bd2ad926",
   "metadata": {},
   "outputs": [
    {
     "name": "stdout",
     "output_type": "stream",
     "text": [
      "ohhh, this is awkward, but it turns out I can only invite 2 guests now... sorry!\n"
     ]
    }
   ],
   "source": [
    "apologies = \"ohhh, this is awkward, but it turns out I can only invite 2 guests now... sorry!\"\n",
    "print(apologies)"
   ]
  },
  {
   "cell_type": "code",
   "execution_count": 333,
   "id": "cc032d0a",
   "metadata": {},
   "outputs": [
    {
     "name": "stdout",
     "output_type": "stream",
     "text": [
      "['Thom Yorke', 'Fiona Apple', 'Frank Ocean', 'Björk', 'King Krule', 'David Bowie']\n"
     ]
    }
   ],
   "source": [
    "print(guest_list)"
   ]
  },
  {
   "cell_type": "code",
   "execution_count": 334,
   "id": "4c88a777",
   "metadata": {},
   "outputs": [
    {
     "name": "stdout",
     "output_type": "stream",
     "text": [
      "Dear David Bowie ohhh, this is awkward, but it turns out I can only invite 2 guests now... sorry!\n"
     ]
    }
   ],
   "source": [
    "#print(guest_list.pop())\n",
    "popped_guest = guest_list.pop()\n",
    "print(\"Dear \" + popped_guest + \" \" + apologies)"
   ]
  },
  {
   "cell_type": "code",
   "execution_count": 335,
   "id": "d8db200d",
   "metadata": {},
   "outputs": [
    {
     "name": "stdout",
     "output_type": "stream",
     "text": [
      "Dear King Krule ohhh, this is awkward, but it turns out I can only invite 2 guests now... sorry!\n"
     ]
    }
   ],
   "source": [
    "#print(guest_list.pop())\n",
    "popped_guest = guest_list.pop()\n",
    "print(\"Dear \" + popped_guest + \" \" + apologies)"
   ]
  },
  {
   "cell_type": "code",
   "execution_count": 336,
   "id": "c73266cc",
   "metadata": {},
   "outputs": [
    {
     "name": "stdout",
     "output_type": "stream",
     "text": [
      "Dear Björk ohhh, this is awkward, but it turns out I can only invite 2 guests now... sorry!\n"
     ]
    }
   ],
   "source": [
    "#print(guest_list.pop())\n",
    "popped_guest = guest_list.pop()\n",
    "print(\"Dear \" + popped_guest + \" \" + apologies)"
   ]
  },
  {
   "cell_type": "code",
   "execution_count": 337,
   "id": "f9865b18",
   "metadata": {},
   "outputs": [
    {
     "name": "stdout",
     "output_type": "stream",
     "text": [
      "Dear Frank Ocean ohhh, this is awkward, but it turns out I can only invite 2 guests now... sorry!\n"
     ]
    }
   ],
   "source": [
    "#print(guest_list.pop())\n",
    "popped_guest = guest_list.pop()\n",
    "print(\"Dear \" + popped_guest + \" \" + apologies)"
   ]
  },
  {
   "cell_type": "code",
   "execution_count": 338,
   "id": "76324bb1",
   "metadata": {},
   "outputs": [
    {
     "name": "stdout",
     "output_type": "stream",
     "text": [
      "['Thom Yorke', 'Fiona Apple']\n"
     ]
    }
   ],
   "source": [
    "print(guest_list)"
   ]
  },
  {
   "cell_type": "code",
   "execution_count": 339,
   "id": "5441274e",
   "metadata": {},
   "outputs": [],
   "source": [
    "new_invite_message =  \"sorry about all the confusion but you are officially invited to this very hip, very complicated to arrange soirée!\""
   ]
  },
  {
   "cell_type": "code",
   "execution_count": 340,
   "id": "0573af13",
   "metadata": {},
   "outputs": [
    {
     "name": "stdout",
     "output_type": "stream",
     "text": [
      "Dear Thom Yorke sorry about all the confusion but you are officially invited to this very hip, very complicated to arrange soirée!\n"
     ]
    }
   ],
   "source": [
    "print(\"Dear \" + guest_list[0] + \" \" + new_invite_message)"
   ]
  },
  {
   "cell_type": "code",
   "execution_count": 341,
   "id": "94b16240",
   "metadata": {},
   "outputs": [
    {
     "name": "stdout",
     "output_type": "stream",
     "text": [
      "Dear Fiona Apple sorry about all the confusion but you are officially invited to this very hip, very complicated to arrange soirée!\n"
     ]
    }
   ],
   "source": [
    "print(\"Dear \" + guest_list[1] + \" \" + new_invite_message)"
   ]
  },
  {
   "cell_type": "code",
   "execution_count": 342,
   "id": "6a601487",
   "metadata": {},
   "outputs": [
    {
     "name": "stdout",
     "output_type": "stream",
     "text": [
      "[]\n"
     ]
    }
   ],
   "source": [
    "del guest_list[1]\n",
    "del guest_list[0]\n",
    "print(guest_list)"
   ]
  },
  {
   "cell_type": "code",
   "execution_count": 343,
   "id": "9672099a",
   "metadata": {},
   "outputs": [],
   "source": [
    "places_to_visit = [\"Jerusalem\", \"Barcelona\", \"Shanghai\", \"Hong Kong\", \"Lima\"]"
   ]
  },
  {
   "cell_type": "code",
   "execution_count": 344,
   "id": "f05f8a58",
   "metadata": {},
   "outputs": [
    {
     "name": "stdout",
     "output_type": "stream",
     "text": [
      "['Jerusalem', 'Barcelona', 'Shanghai', 'Hong Kong', 'Lima']\n"
     ]
    }
   ],
   "source": [
    "print(places_to_visit)"
   ]
  },
  {
   "cell_type": "code",
   "execution_count": 345,
   "id": "5a11a6ea",
   "metadata": {},
   "outputs": [
    {
     "name": "stdout",
     "output_type": "stream",
     "text": [
      "['Barcelona', 'Hong Kong', 'Jerusalem', 'Lima', 'Shanghai']\n"
     ]
    }
   ],
   "source": [
    "print(sorted(places_to_visit))"
   ]
  },
  {
   "cell_type": "code",
   "execution_count": 346,
   "id": "7c1ec134",
   "metadata": {},
   "outputs": [
    {
     "name": "stdout",
     "output_type": "stream",
     "text": [
      "['Jerusalem', 'Barcelona', 'Shanghai', 'Hong Kong', 'Lima']\n"
     ]
    }
   ],
   "source": [
    "print(places_to_visit)"
   ]
  },
  {
   "cell_type": "code",
   "execution_count": 347,
   "id": "da117ad4",
   "metadata": {},
   "outputs": [
    {
     "data": {
      "text/plain": [
       "['Shanghai', 'Lima', 'Jerusalem', 'Hong Kong', 'Barcelona']"
      ]
     },
     "execution_count": 347,
     "metadata": {},
     "output_type": "execute_result"
    }
   ],
   "source": [
    "sorted(places_to_visit, reverse = True)"
   ]
  },
  {
   "cell_type": "code",
   "execution_count": 348,
   "id": "3cec6428",
   "metadata": {},
   "outputs": [
    {
     "name": "stdout",
     "output_type": "stream",
     "text": [
      "['Jerusalem', 'Barcelona', 'Shanghai', 'Hong Kong', 'Lima']\n"
     ]
    }
   ],
   "source": [
    "print(places_to_visit)"
   ]
  },
  {
   "cell_type": "code",
   "execution_count": 349,
   "id": "53b87309",
   "metadata": {},
   "outputs": [],
   "source": [
    "places_to_visit.reverse()"
   ]
  },
  {
   "cell_type": "code",
   "execution_count": 350,
   "id": "359345fb",
   "metadata": {},
   "outputs": [
    {
     "name": "stdout",
     "output_type": "stream",
     "text": [
      "['Lima', 'Hong Kong', 'Shanghai', 'Barcelona', 'Jerusalem']\n"
     ]
    }
   ],
   "source": [
    "print(places_to_visit)"
   ]
  },
  {
   "cell_type": "code",
   "execution_count": 351,
   "id": "4e6b7d23",
   "metadata": {},
   "outputs": [],
   "source": [
    "places_to_visit.reverse()"
   ]
  },
  {
   "cell_type": "code",
   "execution_count": 352,
   "id": "4deda6e4",
   "metadata": {},
   "outputs": [
    {
     "name": "stdout",
     "output_type": "stream",
     "text": [
      "['Jerusalem', 'Barcelona', 'Shanghai', 'Hong Kong', 'Lima']\n"
     ]
    }
   ],
   "source": [
    "print(places_to_visit)"
   ]
  },
  {
   "cell_type": "code",
   "execution_count": 353,
   "id": "fbfae5db",
   "metadata": {},
   "outputs": [],
   "source": [
    "places_to_visit.sort()"
   ]
  },
  {
   "cell_type": "code",
   "execution_count": 354,
   "id": "5c1685f2",
   "metadata": {},
   "outputs": [
    {
     "name": "stdout",
     "output_type": "stream",
     "text": [
      "['Barcelona', 'Hong Kong', 'Jerusalem', 'Lima', 'Shanghai']\n"
     ]
    }
   ],
   "source": [
    "print(places_to_visit)"
   ]
  },
  {
   "cell_type": "code",
   "execution_count": 355,
   "id": "08fa33ed",
   "metadata": {},
   "outputs": [],
   "source": [
    "places_to_visit.sort(reverse=True)"
   ]
  },
  {
   "cell_type": "code",
   "execution_count": 356,
   "id": "599c38bc",
   "metadata": {},
   "outputs": [
    {
     "name": "stdout",
     "output_type": "stream",
     "text": [
      "['Shanghai', 'Lima', 'Jerusalem', 'Hong Kong', 'Barcelona']\n"
     ]
    }
   ],
   "source": [
    "print(places_to_visit)"
   ]
  },
  {
   "cell_type": "code",
   "execution_count": null,
   "id": "85273c8d",
   "metadata": {},
   "outputs": [],
   "source": []
  },
  {
   "cell_type": "code",
   "execution_count": null,
   "id": "19ab61e3",
   "metadata": {},
   "outputs": [],
   "source": []
  },
  {
   "cell_type": "code",
   "execution_count": null,
   "id": "9a5486cf",
   "metadata": {},
   "outputs": [],
   "source": []
  },
  {
   "cell_type": "code",
   "execution_count": null,
   "id": "0efeea2a",
   "metadata": {},
   "outputs": [],
   "source": []
  },
  {
   "cell_type": "code",
   "execution_count": null,
   "id": "416d090d",
   "metadata": {},
   "outputs": [],
   "source": []
  }
 ],
 "metadata": {
  "kernelspec": {
   "display_name": "Python 3 (ipykernel)",
   "language": "python",
   "name": "python3"
  },
  "language_info": {
   "codemirror_mode": {
    "name": "ipython",
    "version": 3
   },
   "file_extension": ".py",
   "mimetype": "text/x-python",
   "name": "python",
   "nbconvert_exporter": "python",
   "pygments_lexer": "ipython3",
   "version": "3.9.7"
  }
 },
 "nbformat": 4,
 "nbformat_minor": 5
}
