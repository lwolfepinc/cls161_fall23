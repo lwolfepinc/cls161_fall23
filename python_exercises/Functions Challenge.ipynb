{
 "cells": [
  {
   "cell_type": "markdown",
   "metadata": {},
   "source": [
    "# Functions Challenge\n",
    "## Directions\n",
    "\n",
    "Building off of the dictionaries challenge, create a function that takes a Pleiades url as input and returns a dictionary with two pieces of information: \"location_id\" and \"coordinates.\" For example, given the url `https://pleiades.stoa.org/places/423025/json` return the dictionary:\n",
    "`{'location_id': '423025', 'coordinates': [12.486137, 41.891775]}`\n",
    "\n",
    "Then, use a for loop to apply your function to the list of urls below building a new list of the returned dictionaries called `coordinates_list`. Your final result should look like this:\n",
    "\n",
    "`[{'location_id': '423025', 'coordinates': [12.486137, 41.891775]}, {'location_id': '550595', 'coordinates': [26.238889, 39.9575]}, {'location_id': '314921', 'coordinates': [10.312944, 36.847009]}, {'location_id': '60406/', 'coordinates': [71.06148, 29.2389543]}, {'location_id': '79574/', 'coordinates': [-0.088949, 51.513335]}]`\n",
    "\n",
    "Hint: The location id can be found in the url, you will need to isolate it somehow.\n",
    "\n",
    "Bonus task: Find the location name and include it in your dictionary.\n",
    "\n"
   ]
  },
  {
   "cell_type": "markdown",
   "metadata": {},
   "source": [
    "## Solution"
   ]
  },
  {
   "cell_type": "code",
   "execution_count": 58,
   "metadata": {},
   "outputs": [],
   "source": [
    "import requests\n",
    "import json"
   ]
  },
  {
   "cell_type": "code",
   "execution_count": 59,
   "metadata": {},
   "outputs": [],
   "source": [
    "# How to use requests\n",
    "url =  \"https://pleiades.stoa.org/places/423025/json\"\n",
    "id=url.split('/')  # set your url\n",
    "response = requests.get(url)  # use requests.get() to get a response object\n",
    "text = response.text  # extract the text from the response object using the text attributeb"
   ]
  },
  {
   "cell_type": "code",
   "execution_count": 60,
   "metadata": {},
   "outputs": [],
   "source": [
    "# The data you get from the pleiades url will techincally be a string even though it looks like a dictionary.\n",
    "# You can use the json library to convert the string to a dictionary\n",
    "data = json.loads(text)  # json.loads will convert the string to a dictionary. The \"s\" on the end of \"loads\" indicates a string"
   ]
  },
  {
   "cell_type": "code",
   "execution_count": 61,
   "metadata": {},
   "outputs": [],
   "source": [
    "urls = [\n",
    "    'https://pleiades.stoa.org/places/423025/json',\n",
    "    'https://pleiades.stoa.org/places/550595/json',\n",
    "    'https://pleiades.stoa.org/places/314921/json',\n",
    "    'https://pleiades.stoa.org/places/60406/json',\n",
    "    'https://pleiades.stoa.org/places/79574/json',\n",
    "]"
   ]
  },
  {
   "cell_type": "code",
   "execution_count": 62,
   "metadata": {},
   "outputs": [
    {
     "name": "stdout",
     "output_type": "stream",
     "text": [
      "[{'location_id': '423025', 'coordinates': [12.486137, 41.891775]}, {'location_id': '550595', 'coordinates': [26.238889, 39.9575]}, {'location_id': '314921', 'coordinates': [10.323056, 36.853056]}, {'location_id': '60406', 'coordinates': [71.06148, 29.2389543]}, {'location_id': '79574', 'coordinates': [-0.088949, 51.513335]}]\n"
     ]
    }
   ],
   "source": [
    "def data():\n",
    "    coordinates_list = []\n",
    "    for url in urls:\n",
    "        response = requests.get(url)\n",
    "        text = response.text\n",
    "        data = json.loads(text)\n",
    "        \n",
    "        coordinates = data[\"features\"][0][\"geometry\"][\"coordinates\"]\n",
    "        location = data[\"id\"]\n",
    "        \n",
    "        address = { \"location_id\" : location, \"coordinates\": [coordinates[0], coordinates[1]]}\n",
    "       \n",
    "        coordinates_list.append(address)\n",
    "   \n",
    "    print(coordinates_list)\n",
    "\n",
    "import requests\n",
    "import json\n",
    "\n",
    "data()"
   ]
  }
 ],
 "metadata": {
  "kernelspec": {
   "display_name": "Python 3 (ipykernel)",
   "language": "python",
   "name": "python3"
  },
  "language_info": {
   "codemirror_mode": {
    "name": "ipython",
    "version": 3
   },
   "file_extension": ".py",
   "mimetype": "text/x-python",
   "name": "python",
   "nbconvert_exporter": "python",
   "pygments_lexer": "ipython3",
   "version": "3.9.7"
  }
 },
 "nbformat": 4,
 "nbformat_minor": 4
}
